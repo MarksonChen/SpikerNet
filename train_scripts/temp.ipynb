{
 "cells": [
  {
   "cell_type": "code",
   "id": "95a00495",
   "metadata": {
    "ExecuteTime": {
     "end_time": "2025-06-19T14:45:51.218883Z",
     "start_time": "2025-06-19T14:45:49.307045Z"
    }
   },
   "source": [
    "import gymnasium as gym\n",
    "import gym_spiker\n",
    "env = gym.make(\"spiker-v0\")\n",
    "obs, _ = env.reset()\n",
    "print(obs.shape)"
   ],
   "outputs": [
    {
     "name": "stdout",
     "output_type": "stream",
     "text": [
      "(1025,)\n"
     ]
    }
   ],
   "execution_count": 1
  },
  {
   "cell_type": "code",
   "execution_count": null,
   "id": "ebba0015",
   "metadata": {},
   "outputs": [],
   "source": []
  }
 ],
 "metadata": {
  "kernelspec": {
   "display_name": "spikernet",
   "language": "python",
   "name": "python3"
  },
  "language_info": {
   "codemirror_mode": {
    "name": "ipython",
    "version": 3
   },
   "file_extension": ".py",
   "mimetype": "text/x-python",
   "name": "python",
   "nbconvert_exporter": "python",
   "pygments_lexer": "ipython3",
   "version": "3.10.18"
  }
 },
 "nbformat": 4,
 "nbformat_minor": 5
}
